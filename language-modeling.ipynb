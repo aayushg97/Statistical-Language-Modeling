{
 "cells": [
  {
   "cell_type": "code",
   "execution_count": 1,
   "id": "3ae3056b",
   "metadata": {},
   "outputs": [],
   "source": [
    "import math\n",
    "import matplotlib.pyplot as plt\n",
    "import numpy"
   ]
  },
  {
   "cell_type": "code",
   "execution_count": 2,
   "id": "75f8d4c9",
   "metadata": {},
   "outputs": [],
   "source": [
    "# Loading vocab, unigram and bigram counts\n",
    "\n",
    "tokens = []\n",
    "with open('vocab.txt', 'r') as f:\n",
    "    lines = f.readlines()\n",
    "    tokens = [token.replace('\\n','') for token in lines]\n",
    "\n",
    "uniCounts = []\n",
    "with open('unigram.txt', 'r') as f:\n",
    "    lines = f.readlines()\n",
    "    uniCounts = [int(count.replace('\\n', '')) for count in lines]\n",
    "    \n",
    "biCounts = {}\n",
    "with open('bigram.txt', 'r') as f:\n",
    "    lines = f.readlines()\n",
    "    for line in lines:\n",
    "        triplet = line.replace('\\n', '').split('\\t')\n",
    "        biCounts[(int(triplet[0]), int(triplet[1]))] = int(triplet[2])"
   ]
  },
  {
   "cell_type": "code",
   "execution_count": 3,
   "id": "6d8b11b1",
   "metadata": {},
   "outputs": [
    {
     "name": "stdout",
     "output_type": "stream",
     "text": [
      "MILLION \t 0.002072759168154815\n",
      "MORE \t 0.0017088989966186725\n",
      "MR. \t 0.0014416083492816956\n",
      "MOST \t 0.0007879173033190295\n",
      "MARKET \t 0.0007803712804681068\n",
      "MAY \t 0.0007298973156289532\n",
      "M. \t 0.0007034067394618568\n",
      "MANY \t 0.0006967290595970209\n",
      "MADE \t 0.0005598610827336895\n",
      "MUCH \t 0.0005145971758110562\n",
      "MAKE \t 0.0005144626437991272\n",
      "MONTH \t 0.00044490959363187093\n",
      "MONEY \t 0.00043710673693999306\n",
      "MONTHS \t 0.0004057607781605526\n",
      "MY \t 0.0004003183467688823\n",
      "MONDAY \t 0.00038198530259784006\n",
      "MAJOR \t 0.00037089252670515475\n",
      "MILITARY \t 0.00035204581485220204\n",
      "MEMBERS \t 0.00033606096579846475\n",
      "MIGHT \t 0.00027358919153183117\n",
      "MEETING \t 0.0002657374141083427\n",
      "MUST \t 0.0002665079156312084\n",
      "ME \t 0.00026357267173457725\n",
      "MARCH \t 0.0002597935452176646\n",
      "MAN \t 0.0002528834918776787\n",
      "MS. \t 0.0002389900041002911\n",
      "MINISTER \t 0.00023977273580605944\n",
      "MAKING \t 0.00021170446604452378\n",
      "MOVE \t 0.0002099555498894477\n",
      "MILES \t 0.00020596851026319035\n"
     ]
    }
   ],
   "source": [
    "unigramProbs = {}\n",
    "totalCount = sum(uniCounts)\n",
    "for i in range(0, len(tokens)):\n",
    "    unigramProbs[tokens[i]] = uniCounts[i]/totalCount\n",
    "    \n",
    "for token in tokens:\n",
    "    if(token[0] == 'M'):\n",
    "        print(token, '\\t', unigramProbs[token])"
   ]
  },
  {
   "cell_type": "code",
   "execution_count": 4,
   "id": "4c09d60f",
   "metadata": {},
   "outputs": [
    {
     "name": "stdout",
     "output_type": "stream",
     "text": [
      "[(0.6150198100055118, '<UNK>'), (0.013372499432610317, 'U.'), (0.011720260675031612, 'FIRST'), (0.011658788055636611, 'COMPANY'), (0.009451480076516552, 'NEW'), (0.008672308141231398, 'UNITED'), (0.006803488635995202, 'GOVERNMENT'), (0.006650714911000876, 'NINETEEN'), (0.006287066757449016, 'SAME'), (0.006160749602827221, 'TWO')]\n"
     ]
    }
   ],
   "source": [
    "bigramProbs = {}\n",
    "countOfBigramsGivenW1 = {}\n",
    "\n",
    "for key in biCounts:\n",
    "    if(key[0] in countOfBigramsGivenW1):\n",
    "        countOfBigramsGivenW1[key[0]] = countOfBigramsGivenW1[key[0]] + biCounts[key]\n",
    "    else:\n",
    "        countOfBigramsGivenW1[key[0]] = biCounts[key]\n",
    "    \n",
    "for key in biCounts:    \n",
    "    bigramProbs[(tokens[key[0]-1], tokens[key[1]-1])] = biCounts[key]/countOfBigramsGivenW1[key[0]]\n",
    "    \n",
    "likelyWordsAfterTHE = []\n",
    "\n",
    "for key in bigramProbs:\n",
    "    if(key[0] == \"THE\"):\n",
    "        likelyWordsAfterTHE.append((bigramProbs[key], key[1]))\n",
    "        \n",
    "likelyWordsAfterTHE.sort(reverse=True)\n",
    "print(likelyWordsAfterTHE[:10])"
   ]
  },
  {
   "cell_type": "code",
   "execution_count": 5,
   "id": "e0bec90c",
   "metadata": {},
   "outputs": [],
   "source": [
    "#Function to compute log likelihood under the unigram model\n",
    "def UnigramLogLikelihood(sentence):\n",
    "    words = sentence.upper().split(' ')\n",
    "    likelihood = 0.0\n",
    "    \n",
    "    for word in words:\n",
    "        likelihood = likelihood + math.log(unigramProbs[word])\n",
    "        \n",
    "    return likelihood\n",
    "\n",
    "#Function to compute log likelihood under the bigram model\n",
    "def BigramLogLikelihood(sentence):\n",
    "    words = sentence.upper().split(' ')\n",
    "    likelihood = 0.0\n",
    "    \n",
    "    for i in range(0, len(words)):\n",
    "        if(i==0):\n",
    "            try:\n",
    "                likelihood = likelihood + math.log(bigramProbs.get((\"<s>\", words[i]), 0))\n",
    "            except:\n",
    "                print(\"<s> and \", words[i], \" don't appear together\")\n",
    "                likelihood = -numpy.inf\n",
    "        else:\n",
    "            try:\n",
    "                likelihood = likelihood + math.log(bigramProbs.get((words[i-1], words[i]), 0))\n",
    "            except:\n",
    "                print(words[i-1], \" and \", words[i], \" don't appear together\")\n",
    "                likelihood = -numpy.inf\n",
    "            \n",
    "    return likelihood\n",
    "\n",
    "#Function to compute log likelihood under the mixture model\n",
    "def MixLogLikelihood(sentence, lambdaParam):\n",
    "    words = sentence.upper().split(' ')\n",
    "    likelihood = 0.0\n",
    "    \n",
    "    for i in range(0, len(words)):\n",
    "        if(i==0):\n",
    "            mixProb = lambdaParam*unigramProbs[words[i]] + (1-lambdaParam)*bigramProbs.get((\"<s>\", words[i]), 0)\n",
    "            likelihood = likelihood + math.log(mixProb)\n",
    "        else:\n",
    "            mixProb = lambdaParam*unigramProbs[words[i]] + (1-lambdaParam)*bigramProbs.get((words[i-1], words[i]), 0)\n",
    "            likelihood = likelihood + math.log(mixProb)\n",
    "        \n",
    "    return likelihood"
   ]
  },
  {
   "cell_type": "code",
   "execution_count": 6,
   "id": "8ed07a31",
   "metadata": {},
   "outputs": [
    {
     "name": "stdout",
     "output_type": "stream",
     "text": [
      "Log-Likelihood under unigram model  -64.50944034364878\n",
      "Log-Likelihood under bigram model  -40.91813213378977\n"
     ]
    }
   ],
   "source": [
    "sentence = \"The stock market fell by one hundred points last week\"\n",
    "\n",
    "print(\"Log-Likelihood under unigram model \", UnigramLogLikelihood(sentence))\n",
    "print(\"Log-Likelihood under bigram model \", BigramLogLikelihood(sentence))"
   ]
  },
  {
   "cell_type": "code",
   "execution_count": 7,
   "id": "37335bbe",
   "metadata": {},
   "outputs": [
    {
     "name": "stdout",
     "output_type": "stream",
     "text": [
      "Log-Likelihood under unigram model  -44.291934473132606\n",
      "SIXTEEN  and  OFFICIALS  don't appear together\n",
      "SOLD  and  FIRE  don't appear together\n",
      "Log-Likelihood under bigram model  -inf\n"
     ]
    }
   ],
   "source": [
    "sentence = \"The sixteen officials sold fire insurance\"\n",
    "\n",
    "print(\"Log-Likelihood under unigram model \", UnigramLogLikelihood(sentence))\n",
    "print(\"Log-Likelihood under bigram model \", BigramLogLikelihood(sentence))\n",
    "# 2 bigrams not present"
   ]
  },
  {
   "cell_type": "code",
   "execution_count": 8,
   "id": "0fd144c6",
   "metadata": {},
   "outputs": [
    {
     "data": {
      "image/png": "[encoded data removed]",
      "text/plain": [
       "<Figure size 432x288 with 1 Axes>"
      ]
     },
     "metadata": {
      "needs_background": "light"
     },
     "output_type": "display_data"
    }
   ],
   "source": [
    "lambdaValues = []\n",
    "x = 0.01\n",
    "\n",
    "while(x <= 1.0):\n",
    "    lambdaValues.append(x)\n",
    "    x = x + 0.01\n",
    "    \n",
    "mixProbValues = []\n",
    "sentence = \"The sixteen officials sold fire insurance\"\n",
    "\n",
    "for lambdaVal in lambdaValues:\n",
    "    mixProbValues.append(MixLogLikelihood(sentence, lambdaVal))\n",
    "    \n",
    "plt.plot(lambdaValues, mixProbValues)\n",
    "plt.title('Log likelihood under mixture model as a function of lambda')\n",
    "plt.xlabel('Lambda values')\n",
    "plt.ylabel('Log likelihood')\n",
    "plt.savefig('Q3E_Plot.png')\n",
    "plt.show()\n",
    "plt.close()"
   ]
  },
  {
   "cell_type": "code",
   "execution_count": 9,
   "id": "5479a452",
   "metadata": {},
   "outputs": [
    {
     "name": "stdout",
     "output_type": "stream",
     "text": [
      "Optimal value of lambda  0.6500000000000004\n"
     ]
    }
   ],
   "source": [
    "print(\"Optimal value of lambda \", lambdaValues[numpy.argmax(mixProbValues)])"
   ]
  }
 ],
 "metadata": {
  "kernelspec": {
   "display_name": "Python 3 (ipykernel)",
   "language": "python",
   "name": "python3"
  },
  "language_info": {
   "codemirror_mode": {
    "name": "ipython",
    "version": 3
   },
   "file_extension": ".py",
   "mimetype": "text/x-python",
   "name": "python",
   "nbconvert_exporter": "python",
   "pygments_lexer": "ipython3",
   "version": "3.9.12"
  }
 },
 "nbformat": 4,
 "nbformat_minor": 5
}
